{
 "cells": [
  {
   "cell_type": "code",
   "execution_count": 6,
   "metadata": {},
   "outputs": [],
   "source": [
    "import numpy as np\n",
    "import pandas as pd\n",
    "from sklearn.model_selection import train_test_split\n",
    "from sklearn.preprocessing import StandardScaler\n",
    "from catboost import CatBoostClassifier, Pool, cv\n",
    "import matplotlib.pyplot as plt\n",
    "\n",
    "# Load datasets\n",
    "air_quality_df = pd.read_csv(\"data/datathon24_parte1/air_quality_gijon.csv\")\n",
    "meteo_df = pd.read_csv(\"data/datathon24_parte1/meteo_gijon.csv\")\n",
    "mobility_df = pd.read_csv(\"data/datathon24_parte1/movility_gijon.csv\")\n",
    "prediction_df = pd.read_csv(\"data/datathon24_parte2/prediction.csv\")\n",
    "\n",
    "# Merge datasets with the selected columns from air_quality_df\n",
    "selected_columns = [\"date\", \"SO2_GijonGlobal\", \"NO_GijonGlobal\", \"NO2_GijonGlobal\", \"CO_GijonGlobal\", \"PM10_GijonGlobal\", \"O3_GijonGlobal\"]\n",
    "filtered_air_quality_df = air_quality_df[selected_columns]\n",
    "merged_df = filtered_air_quality_df.merge(meteo_df, on=\"date\", how='outer').merge(mobility_df, on=\"date\", how='outer').merge(prediction_df, on=\"date\", how='outer')\n",
    "\n",
    "# Convert 'date' to datetime, sort, and handle missing values\n",
    "merged_df['date'] = pd.to_datetime(merged_df['date'])\n",
    "merged_df.sort_values('date', inplace=True)\n",
    "merged_df.ffill(inplace=True)\n",
    "merged_df.bfill(inplace=True)\n",
    "\n",
    "# Normalize features and reintroduce cyclical features before normalization\n",
    "scaler = StandardScaler()\n",
    "exclude_cols = [\"date\", \"ICA_PM25_target\"]\n",
    "features_to_scale = [col for col in merged_df.columns if col not in exclude_cols]\n",
    "merged_df[features_to_scale] = scaler.fit_transform(merged_df[features_to_scale])\n",
    "\n",
    "# Preparing x_final_prediction for December 2023\n",
    "x_final_prediction_with_date = merged_df[\n",
    "    (merged_df[\"date\"] >= \"2023-12-01\") & (merged_df[\"date\"] <= \"2023-12-31\")\n",
    "]\n",
    "\n",
    "# Ensure features are prepared similarly to the training data\n",
    "x_final_prediction = x_final_prediction_with_date.drop(columns=['date', 'ICA_PM25_target'])\n",
    "\n",
    "# Apply the same scaler transformation to x_final_prediction\n",
    "x_final_prediction[features_to_scale] = scaler.transform(x_final_prediction[features_to_scale])"
   ]
  },
  {
   "cell_type": "code",
   "execution_count": 7,
   "metadata": {},
   "outputs": [
    {
     "name": "stderr",
     "output_type": "stream",
     "text": [
      "C:\\Users\\Daniel\\AppData\\Local\\Temp\\ipykernel_8848\\2293624165.py:9: FutureWarning: DataFrame.fillna with 'method' is deprecated and will raise in a future version. Use obj.ffill() or obj.bfill() instead.\n",
      "  df.fillna(method='bfill', inplace=True)\n"
     ]
    },
    {
     "data": {
      "application/vnd.jupyter.widget-view+json": {
       "model_id": "41408a023f954bea992c7659c97af623",
       "version_major": 2,
       "version_minor": 0
      },
      "text/plain": [
       "MetricVisualizer(layout=Layout(align_self='stretch', height='500px'))"
      ]
     },
     "metadata": {},
     "output_type": "display_data"
    },
    {
     "ename": "CatBoostError",
     "evalue": "C:/Go_Agent/pipelines/BuildMaster/catboost.git/catboost/private/libs/options/json_helper.h:41: Can't parse parameter \"learning_rate\" with value: [0.01,0.05,0.1]",
     "output_type": "error",
     "traceback": [
      "\u001b[1;31m---------------------------------------------------------------------------\u001b[0m",
      "\u001b[1;31mCatBoostError\u001b[0m                             Traceback (most recent call last)",
      "Cell \u001b[1;32mIn[7], line 32\u001b[0m\n\u001b[0;32m     23\u001b[0m params \u001b[38;5;241m=\u001b[39m {\n\u001b[0;32m     24\u001b[0m     \u001b[38;5;124m'\u001b[39m\u001b[38;5;124miterations\u001b[39m\u001b[38;5;124m'\u001b[39m: \u001b[38;5;241m1000\u001b[39m,\n\u001b[0;32m     25\u001b[0m     \u001b[38;5;124m'\u001b[39m\u001b[38;5;124mlearning_rate\u001b[39m\u001b[38;5;124m'\u001b[39m: [\u001b[38;5;241m0.01\u001b[39m, \u001b[38;5;241m0.05\u001b[39m, \u001b[38;5;241m0.1\u001b[39m],\n\u001b[1;32m   (...)\u001b[0m\n\u001b[0;32m     29\u001b[0m     \u001b[38;5;124m'\u001b[39m\u001b[38;5;124mearly_stopping_rounds\u001b[39m\u001b[38;5;124m'\u001b[39m: \u001b[38;5;241m100\u001b[39m\n\u001b[0;32m     30\u001b[0m }\n\u001b[0;32m     31\u001b[0m cv_dataset \u001b[38;5;241m=\u001b[39m Pool(data\u001b[38;5;241m=\u001b[39mX_train_scaled, label\u001b[38;5;241m=\u001b[39my_train)\n\u001b[1;32m---> 32\u001b[0m cv_results \u001b[38;5;241m=\u001b[39m \u001b[43mcv\u001b[49m\u001b[43m(\u001b[49m\u001b[43mpool\u001b[49m\u001b[38;5;241;43m=\u001b[39;49m\u001b[43mcv_dataset\u001b[49m\u001b[43m,\u001b[49m\u001b[43m \u001b[49m\u001b[43mparams\u001b[49m\u001b[38;5;241;43m=\u001b[39;49m\u001b[43mparams\u001b[49m\u001b[43m,\u001b[49m\u001b[43m \u001b[49m\u001b[43mfold_count\u001b[49m\u001b[38;5;241;43m=\u001b[39;49m\u001b[38;5;241;43m5\u001b[39;49m\u001b[43m,\u001b[49m\u001b[43m \u001b[49m\u001b[43mplot\u001b[49m\u001b[38;5;241;43m=\u001b[39;49m\u001b[38;5;28;43;01mTrue\u001b[39;49;00m\u001b[43m)\u001b[49m\n\u001b[0;32m     34\u001b[0m model \u001b[38;5;241m=\u001b[39m CatBoostClassifier(\u001b[38;5;241m*\u001b[39m\u001b[38;5;241m*\u001b[39mcv_results[\u001b[38;5;124m'\u001b[39m\u001b[38;5;124mparams\u001b[39m\u001b[38;5;124m'\u001b[39m])\n\u001b[0;32m     35\u001b[0m model\u001b[38;5;241m.\u001b[39mfit(X_train_scaled, y_train, eval_set\u001b[38;5;241m=\u001b[39m(X_test_scaled, y_test), use_best_model\u001b[38;5;241m=\u001b[39m\u001b[38;5;28;01mTrue\u001b[39;00m, plot\u001b[38;5;241m=\u001b[39m\u001b[38;5;28;01mTrue\u001b[39;00m)\n",
      "File \u001b[1;32mc:\\Users\\Daniel\\Documents\\Github\\Datathon-2024\\venv\\Lib\\site-packages\\catboost\\core.py:6902\u001b[0m, in \u001b[0;36mcv\u001b[1;34m(pool, params, dtrain, iterations, num_boost_round, fold_count, nfold, inverted, partition_random_seed, seed, shuffle, logging_level, stratified, as_pandas, metric_period, verbose, verbose_eval, plot, plot_file, early_stopping_rounds, save_snapshot, snapshot_file, snapshot_interval, metric_update_interval, folds, type, return_models, log_cout, log_cerr)\u001b[0m\n\u001b[0;32m   6900\u001b[0m \u001b[38;5;28;01mwith\u001b[39;00m log_fixup(log_cout, log_cerr), plot_wrapper(plot, plot_file\u001b[38;5;241m=\u001b[39mplot_file, plot_title\u001b[38;5;241m=\u001b[39m\u001b[38;5;124m'\u001b[39m\u001b[38;5;124mCross-validation plot\u001b[39m\u001b[38;5;124m'\u001b[39m, train_dirs\u001b[38;5;241m=\u001b[39mplot_dirs):\n\u001b[0;32m   6901\u001b[0m     \u001b[38;5;28;01mif\u001b[39;00m \u001b[38;5;129;01mnot\u001b[39;00m return_models:\n\u001b[1;32m-> 6902\u001b[0m         \u001b[38;5;28;01mreturn\u001b[39;00m \u001b[43m_cv\u001b[49m\u001b[43m(\u001b[49m\n\u001b[0;32m   6903\u001b[0m \u001b[43m            \u001b[49m\u001b[43mparams\u001b[49m\u001b[43m,\u001b[49m\n\u001b[0;32m   6904\u001b[0m \u001b[43m            \u001b[49m\u001b[43mpool\u001b[49m\u001b[43m,\u001b[49m\n\u001b[0;32m   6905\u001b[0m \u001b[43m            \u001b[49m\u001b[43mfold_count\u001b[49m\u001b[43m,\u001b[49m\n\u001b[0;32m   6906\u001b[0m \u001b[43m            \u001b[49m\u001b[43minverted\u001b[49m\u001b[43m,\u001b[49m\n\u001b[0;32m   6907\u001b[0m \u001b[43m            \u001b[49m\u001b[43mpartition_random_seed\u001b[49m\u001b[43m,\u001b[49m\n\u001b[0;32m   6908\u001b[0m \u001b[43m            \u001b[49m\u001b[43mshuffle\u001b[49m\u001b[43m,\u001b[49m\n\u001b[0;32m   6909\u001b[0m \u001b[43m            \u001b[49m\u001b[43mstratified\u001b[49m\u001b[43m,\u001b[49m\n\u001b[0;32m   6910\u001b[0m \u001b[43m            \u001b[49m\u001b[43mmetric_update_interval\u001b[49m\u001b[43m,\u001b[49m\n\u001b[0;32m   6911\u001b[0m \u001b[43m            \u001b[49m\u001b[43mas_pandas\u001b[49m\u001b[43m,\u001b[49m\n\u001b[0;32m   6912\u001b[0m \u001b[43m            \u001b[49m\u001b[43mfolds\u001b[49m\u001b[43m,\u001b[49m\n\u001b[0;32m   6913\u001b[0m \u001b[43m            \u001b[49m\u001b[38;5;28;43mtype\u001b[39;49m\u001b[43m,\u001b[49m\n\u001b[0;32m   6914\u001b[0m \u001b[43m            \u001b[49m\u001b[43mreturn_models\u001b[49m\n\u001b[0;32m   6915\u001b[0m \u001b[43m        \u001b[49m\u001b[43m)\u001b[49m\n\u001b[0;32m   6916\u001b[0m     \u001b[38;5;28;01melse\u001b[39;00m:\n\u001b[0;32m   6917\u001b[0m         results, cv_models \u001b[38;5;241m=\u001b[39m _cv(\n\u001b[0;32m   6918\u001b[0m             params,\n\u001b[0;32m   6919\u001b[0m             pool,\n\u001b[1;32m   (...)\u001b[0m\n\u001b[0;32m   6929\u001b[0m             return_models\n\u001b[0;32m   6930\u001b[0m         )\n",
      "File \u001b[1;32m_catboost.pyx:5696\u001b[0m, in \u001b[0;36m_catboost._cv\u001b[1;34m()\u001b[0m\n",
      "File \u001b[1;32m_catboost.pyx:5728\u001b[0m, in \u001b[0;36m_catboost._cv\u001b[1;34m()\u001b[0m\n",
      "\u001b[1;31mCatBoostError\u001b[0m: C:/Go_Agent/pipelines/BuildMaster/catboost.git/catboost/private/libs/options/json_helper.h:41: Can't parse parameter \"learning_rate\" with value: [0.01,0.05,0.1]"
     ]
    }
   ],
   "source": [
    "for lag in [1, 2, 3]:\n",
    "    merged_df[f\"PM10_GijonGlobal_lag{lag}\"] = merged_df[\"PM10_GijonGlobal\"].shift(\n",
    "        periods=lag\n",
    "    )\n",
    "merged_df.fillna(method=\"bfill\", inplace=True)  # Handling any introduced NaNs\n",
    "\n",
    "# Splitting the dataset\n",
    "X = merged_df.drop([\"date\", \"ICA_PM25_target\"], axis=1)\n",
    "y = merged_df[\"ICA_PM25_target\"]\n",
    "scaler = StandardScaler()\n",
    "X_scaled = scaler.fit_transform(X)\n",
    "\n",
    "# Split data for training and evaluation\n",
    "X_train, X_test, y_train, y_test = train_test_split(\n",
    "    X_scaled, y, test_size=0.2, random_state=42, stratify=y\n",
    ")\n",
    "\n",
    "# Hyperparameter tuning using CatBoost's CV\n",
    "params = {\n",
    "    \"iterations\": 1000,\n",
    "    \"learning_rate\": 0.1,\n",
    "    \"depth\": 6,\n",
    "    \"loss_function\": \"Logloss\",\n",
    "    \"eval_metric\": \"Accuracy\",\n",
    "    \"early_stopping_rounds\": 100,\n",
    "    \"verbose\": 200,\n",
    "}\n",
    "cv_dataset = Pool(data=X_train, label=y_train)\n",
    "cv_results = cv(pool=cv_dataset, params=params, fold_count=5, plot=True)\n",
    "\n",
    "# Training CatBoostClassifier with the best parameters\n",
    "model = CatBoostClassifier(**params)\n",
    "model.fit(X_train, y_train, eval_set=(X_test, y_test), use_best_model=True, plot=True)"
   ]
  },
  {
   "cell_type": "code",
   "execution_count": null,
   "metadata": {},
   "outputs": [
    {
     "name": "stdout",
     "output_type": "stream",
     "text": [
      "0.0,0.0,0.0,0.0,1.0,0.0,0.0,0.0,0.0,0.0,1.0,0.0,0.0,0.0,0.0,0.0,1.0,1.0,0.0,0.0,0.0,0.0,0.0,1.0,1.0,1.0,1.0,0.0,0.0,0.0,0.0\n"
     ]
    }
   ],
   "source": [
    "# Preparing for predictions for December 2023\n",
    "x_final = merged_df[merged_df['date'] >= '2023-12-01'].drop(['date', 'ICA_PM25_target'], axis=1)\n",
    "x_final_scaled = scaler.transform(x_final)  # Apply the same scaling\n",
    "final_predictions = model.predict(x_final_scaled)\n",
    "\n",
    "# Saving and printing predictions\n",
    "predictions_string = ','.join(map(str, final_predictions))\n",
    "print(predictions_string)\n",
    "\n",
    "# Saving the predictions with date\n",
    "x_final_prediction_with_date = merged_df[merged_df['date'] >= '2023-12-01'][['date']].copy()\n",
    "x_final_prediction_with_date['final_predictions'] = final_predictions\n",
    "x_final_prediction_with_date.to_csv('final_predictions_december_2023.csv', index=False)"
   ]
  }
 ],
 "metadata": {
  "kernelspec": {
   "display_name": "Python 3",
   "language": "python",
   "name": "python3"
  },
  "language_info": {
   "codemirror_mode": {
    "name": "ipython",
    "version": 3
   },
   "file_extension": ".py",
   "mimetype": "text/x-python",
   "name": "python",
   "nbconvert_exporter": "python",
   "pygments_lexer": "ipython3",
   "version": "3.11.3"
  }
 },
 "nbformat": 4,
 "nbformat_minor": 2
}
