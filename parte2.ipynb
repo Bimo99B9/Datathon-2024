{
 "cells": [
  {
   "cell_type": "code",
   "execution_count": 7,
   "metadata": {},
   "outputs": [],
   "source": [
    "import pandas as pd\n",
    "\n",
    "air_quality_df = pd.read_csv('data/datathon24_parte1/air_quality_gijon.csv')\n",
    "meteo_df = pd.read_csv('data/datathon24_parte1/meteo_gijon.csv')\n",
    "mobility_df = pd.read_csv('data/datathon24_parte1/movility_gijon.csv')\n",
    "\n",
    "selected_columns = [\n",
    "    'date',  # Include the date for merging\n",
    "    'SO2_GijonGlobal', 'NO_GijonGlobal', 'NO2_GijonGlobal', \n",
    "    'CO_GijonGlobal', 'PM10_GijonGlobal', 'O3_GijonGlobal'\n",
    "]\n",
    "filtered_air_quality_df = air_quality_df[selected_columns]\n",
    "\n",
    "merged_df = filtered_air_quality_df.merge(meteo_df, on='date', how='outer').merge(mobility_df, on='date', how='outer')\n",
    "\n",
    "prediction_df = pd.read_csv('data/datathon24_parte2/prediction.csv')\n",
    "\n",
    "merged_df = merged_df.merge(prediction_df, on='date', how='outer')\n"
   ]
  },
  {
   "cell_type": "code",
   "execution_count": 9,
   "metadata": {},
   "outputs": [],
   "source": [
    "merged_df.to_csv('data/datathon24_parte2/merged_data_partII.csv', index=False)"
   ]
  },
  {
   "cell_type": "code",
   "execution_count": 16,
   "metadata": {},
   "outputs": [],
   "source": [
    "# Convert 'date' column to datetime and sort by date\n",
    "merged_df['date'] = pd.to_datetime(merged_df['date'])\n",
    "merged_df.sort_values('date', inplace=True)\n",
    "\n",
    "# Create date-related features\n",
    "merged_df['day_of_week'] = merged_df['date'].dt.dayofweek\n",
    "merged_df['month'] = merged_df['date'].dt.month\n",
    "\n",
    "# Choose a rolling window size, e.g., 7 days\n",
    "window_size = 7\n",
    "\n",
    "# Calculate rolling features for air quality measurements\n",
    "for col in ['SO2_GijonGlobal', 'NO_GijonGlobal', 'NO2_GijonGlobal', 'CO_GijonGlobal', 'PM10_GijonGlobal', 'O3_GijonGlobal']:\n",
    "    merged_df[f'{col}_rolling_mean'] = merged_df[col].rolling(window=window_size, min_periods=1).mean()\n",
    "    merged_df[f'{col}_rolling_std'] = merged_df[col].rolling(window=window_size, min_periods=1).std()\n",
    "\n",
    "# Create lag features, e.g., for the previous day\n",
    "for col in ['SO2_GijonGlobal', 'NO_GijonGlobal', 'NO2_GijonGlobal', 'CO_GijonGlobal', 'PM10_GijonGlobal', 'O3_GijonGlobal']:\n",
    "    merged_df[f'{col}_lag1'] = merged_df[col].shift(1)\n",
    "\n",
    "# Fill missing values (forward-fill for time-series data)\n",
    "merged_df.fillna(method='ffill', inplace=True)\n",
    "\n",
    "# Normalize the continuous features\n",
    "from sklearn.preprocessing import StandardScaler\n",
    "\n",
    "# Exclude non-continuous or non-relevant features for scaling\n",
    "non_scaled_cols = ['date', 'ICA_PM25_target', 'day_of_week', 'month']\n",
    "features_to_scale = [col for col in merged_df.columns if col not in non_scaled_cols]\n",
    "\n",
    "# Apply standardization\n",
    "scaler = StandardScaler()\n",
    "merged_df[features_to_scale] = scaler.fit_transform(merged_df[features_to_scale])\n",
    "\n",
    "# Separate the prediction period (December 2023) data\n",
    "x_final_prediction = merged_df[(merged_df['date'] >= '2023-12-01') & (merged_df['date'] <= '2023-12-31')].drop(columns=['ICA_PM25_target'])\n",
    "\n",
    "# Drop the date column and other non-predictive columns for modeling\n",
    "X_train = merged_df[merged_df['date'] < '2023-12-01'].drop(columns=['date', 'ICA_PM25_target'])\n",
    "y_train = merged_df[merged_df['date'] < '2023-12-01']['ICA_PM25_target']\n",
    "\n",
    "# Make sure the indices are reset for the training data\n",
    "X_train.reset_index(drop=True, inplace=True)\n",
    "y_train.reset_index(drop=True, inplace=True)\n",
    "x_final_prediction.reset_index(drop=True, inplace=True)"
   ]
  },
  {
   "cell_type": "code",
   "execution_count": 18,
   "metadata": {},
   "outputs": [
    {
     "name": "stdout",
     "output_type": "stream",
     "text": [
      "                                feature        VIF\n",
      "16         C01_BibioArenaMestas_trafico  12.882529\n",
      "20             C05_CotoViesques_trafico  16.501066\n",
      "21             C06_LlanoPumarin_trafico  10.112198\n",
      "23          C08_NuevoGijonBrana_trafico  24.136407\n",
      "25  C10_ContruecesGijonSurRoces_trafico  11.758029\n",
      "26   C11_NatahoyoMoredaTremañes_trafico  16.172234\n",
      "27                   C12_Ceares_trafico  41.422942\n",
      "32          NO_GijonGlobal_rolling_mean  12.286280\n",
      "34         NO2_GijonGlobal_rolling_mean  10.073702\n",
      "ICA_PM25_target\n",
      "0.0    1342\n",
      "1.0     453\n",
      "Name: count, dtype: int64\n"
     ]
    }
   ],
   "source": [
    "# Handle any remaining missing values\n",
    "X_train = X_train.fillna(method='bfill', axis=0)  # Backward-fill\n",
    "\n",
    "# Check for multicollinearity (example using VIF)\n",
    "from statsmodels.stats.outliers_influence import variance_inflation_factor\n",
    "\n",
    "# Calculate VIF for each feature\n",
    "vif_data = pd.DataFrame()\n",
    "vif_data[\"feature\"] = X_train.columns\n",
    "vif_data[\"VIF\"] = [variance_inflation_factor(X_train.values, i) for i in range(len(X_train.columns))]\n",
    "\n",
    "# Print the features with high VIF values\n",
    "print(vif_data[vif_data['VIF'] > 10])\n",
    "\n",
    "# Feature selection: drop features based on domain knowledge, VIF, or preliminary feature importance\n",
    "# For example, to drop features with VIF greater than 10\n",
    "high_vif_features = vif_data[vif_data['VIF'] > 10][\"feature\"].tolist()\n",
    "X_train.drop(columns=high_vif_features, inplace=True)\n",
    "\n",
    "# Check class balance\n",
    "class_counts = y_train.value_counts()\n",
    "print(class_counts)"
   ]
  }
 ],
 "metadata": {
  "kernelspec": {
   "display_name": "Python 3",
   "language": "python",
   "name": "python3"
  },
  "language_info": {
   "codemirror_mode": {
    "name": "ipython",
    "version": 3
   },
   "file_extension": ".py",
   "mimetype": "text/x-python",
   "name": "python",
   "nbconvert_exporter": "python",
   "pygments_lexer": "ipython3",
   "version": "3.11.9"
  }
 },
 "nbformat": 4,
 "nbformat_minor": 2
}
