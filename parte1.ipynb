{
 "cells": [
  {
   "cell_type": "code",
   "execution_count": 2,
   "metadata": {},
   "outputs": [],
   "source": [
    "import pandas as pd\n",
    "\n",
    "air_quality_df = pd.read_csv('data/datathon24_parte1/air_quality_gijon.csv')\n",
    "meteo_df = pd.read_csv('data/datathon24_parte1/meteo_gijon.csv')\n",
    "mobility_df = pd.read_csv('data/datathon24_parte1/movility_gijon.csv')\n",
    "\n",
    "\n",
    "merged_df = air_quality_df.merge(meteo_df, on='date', how='outer').merge(mobility_df, on='date', how='outer')"
   ]
  },
  {
   "cell_type": "code",
   "execution_count": 3,
   "metadata": {},
   "outputs": [
    {
     "name": "stdout",
     "output_type": "stream",
     "text": [
      "<class 'pandas.core.frame.DataFrame'>\n",
      "RangeIndex: 1826 entries, 0 to 1825\n",
      "Data columns (total 41 columns):\n",
      " #   Column                               Non-Null Count  Dtype  \n",
      "---  ------                               --------------  -----  \n",
      " 0   date                                 1826 non-null   object \n",
      " 1   SO2_OesteAvdaArgentina               1826 non-null   float64\n",
      " 2   SO2_EsteAvdaCastilla                 1826 non-null   float64\n",
      " 3   NO2_OesteAvdaArgentina               1826 non-null   float64\n",
      " 4   NO_EsteAvdaCastilla                  1826 non-null   float64\n",
      " 5   NO2_OesteAvdaArgentina.1             1826 non-null   float64\n",
      " 6   NO2_EsteAvdaCastilla                 1826 non-null   float64\n",
      " 7   CO_OesteAvdaArgentina                1826 non-null   float64\n",
      " 8   CO_EsteAvdaCastilla                  1826 non-null   float64\n",
      " 9   PM10_OesteAvdaArgentina              1826 non-null   float64\n",
      " 10  PM10_EsteAvdaCastilla                1826 non-null   float64\n",
      " 11  O3_OesteAvdaArgentina                1826 non-null   float64\n",
      " 12  O3_EsteAvdaCastilla                  1826 non-null   float64\n",
      " 13  SO2_GijonGlobal                      1826 non-null   float64\n",
      " 14  NO_GijonGlobal                       1826 non-null   float64\n",
      " 15  NO2_GijonGlobal                      1826 non-null   float64\n",
      " 16  CO_GijonGlobal                       1826 non-null   float64\n",
      " 17  PM10_GijonGlobal                     1826 non-null   float64\n",
      " 18  O3_GijonGlobal                       1826 non-null   float64\n",
      " 19  velmedia_GijonCampus                 1772 non-null   float64\n",
      " 20  racha_GijonCampus                    1703 non-null   float64\n",
      " 21  tmed_Gijon                           1826 non-null   float64\n",
      " 22  prec_Gijon                           1826 non-null   float64\n",
      " 23  sol_Gijon                            1826 non-null   float64\n",
      " 24  presMin_Gijon                        1826 non-null   float64\n",
      " 25  presMax_Gijon                        1826 non-null   float64\n",
      " 26  dir_Gijon                            1825 non-null   float64\n",
      " 27  velmedia_Gijon                       1826 non-null   float64\n",
      " 28  racha_Gijon                          1825 non-null   float64\n",
      " 29  C01_BibioArenaMestas_trafico         1826 non-null   float64\n",
      " 30  C02_CentroPlaya_trafico              1826 non-null   float64\n",
      " 31  C03_CentroLlano_trafico              1826 non-null   float64\n",
      " 32  C04_LaviadaPoligono_trafico          1826 non-null   float64\n",
      " 33  C05_CotoViesques_trafico             1826 non-null   float64\n",
      " 34  C06_LlanoPumarin_trafico             1826 non-null   float64\n",
      " 35  C07_LlanoMontevil_trafico            1826 non-null   float64\n",
      " 36  C08_NuevoGijonBrana_trafico          1826 non-null   float64\n",
      " 37  C09_LaCalzada_trafico                1826 non-null   float64\n",
      " 38  C10_ContruecesGijonSurRoces_trafico  1826 non-null   float64\n",
      " 39  C11_NatahoyoMoredaTremañes_trafico   1826 non-null   float64\n",
      " 40  C12_Ceares_trafico                   1826 non-null   float64\n",
      "dtypes: float64(40), object(1)\n",
      "memory usage: 585.0+ KB\n"
     ]
    }
   ],
   "source": [
    "merged_df.info()"
   ]
  },
  {
   "cell_type": "code",
   "execution_count": 4,
   "metadata": {},
   "outputs": [],
   "source": [
    "merged_df.to_csv('data/datathon24_parte1/merged_gijon.csv', index=False)"
   ]
  }
 ],
 "metadata": {
  "kernelspec": {
   "display_name": "Python 3",
   "language": "python",
   "name": "python3"
  },
  "language_info": {
   "codemirror_mode": {
    "name": "ipython",
    "version": 3
   },
   "file_extension": ".py",
   "mimetype": "text/x-python",
   "name": "python",
   "nbconvert_exporter": "python",
   "pygments_lexer": "ipython3",
   "version": "3.11.9"
  }
 },
 "nbformat": 4,
 "nbformat_minor": 2
}
