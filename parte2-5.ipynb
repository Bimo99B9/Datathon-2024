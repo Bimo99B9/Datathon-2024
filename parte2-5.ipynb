{
 "cells": [
  {
   "cell_type": "code",
   "execution_count": 38,
   "metadata": {},
   "outputs": [],
   "source": [
    "import numpy as np\n",
    "import pandas as pd\n",
    "from sklearn.model_selection import train_test_split\n",
    "from sklearn.preprocessing import StandardScaler\n",
    "from catboost import CatBoostClassifier, Pool, cv\n",
    "import matplotlib.pyplot as plt\n",
    "\n",
    "# Load datasets\n",
    "air_quality_df = pd.read_csv(\"data/datathon24_parte1/air_quality_gijon.csv\")\n",
    "meteo_df = pd.read_csv(\"data/datathon24_parte1/meteo_gijon.csv\")\n",
    "mobility_df = pd.read_csv(\"data/datathon24_parte1/movility_gijon.csv\")\n",
    "prediction_df = pd.read_csv(\"data/datathon24_parte2/prediction.csv\")\n",
    "\n",
    "# Merge datasets with the selected columns from air_quality_df\n",
    "selected_columns = [\"date\", \"SO2_GijonGlobal\", \"NO_GijonGlobal\", \"NO2_GijonGlobal\", \"CO_GijonGlobal\", \"PM10_GijonGlobal\", \"O3_GijonGlobal\"]\n",
    "filtered_air_quality_df = air_quality_df[selected_columns]\n",
    "merged_df = filtered_air_quality_df.merge(meteo_df, on=\"date\", how='outer').merge(mobility_df, on=\"date\", how='outer').merge(prediction_df, on=\"date\", how='outer')\n",
    "\n",
    "# Convert 'date' to datetime, sort, and handle missing values\n",
    "merged_df['date'] = pd.to_datetime(merged_df['date'])\n",
    "merged_df.sort_values('date', inplace=True)\n",
    "merged_df.ffill(inplace=True)\n",
    "merged_df.bfill(inplace=True)\n",
    "\n",
    "# Normalize features and reintroduce cyclical features before normalization\n",
    "scaler = StandardScaler()\n",
    "exclude_cols = [\"date\", \"ICA_PM25_target\"]\n",
    "features_to_scale = [col for col in merged_df.columns if col not in exclude_cols]\n",
    "merged_df[features_to_scale] = scaler.fit_transform(merged_df[features_to_scale])\n",
    "\n",
    "# Preparing x_final_prediction for December 2023\n",
    "x_final_prediction_with_date = merged_df[\n",
    "    (merged_df[\"date\"] >= \"2023-12-01\") & (merged_df[\"date\"] <= \"2023-12-31\")\n",
    "]\n",
    "\n",
    "# Ensure features are prepared similarly to the training data\n",
    "x_final_prediction = x_final_prediction_with_date.drop(columns=['date', 'ICA_PM25_target'])\n",
    "\n",
    "# Apply the same scaler transformation to x_final_prediction\n",
    "x_final_prediction[features_to_scale] = scaler.transform(x_final_prediction[features_to_scale])"
   ]
  },
  {
   "cell_type": "code",
   "execution_count": 41,
   "metadata": {},
   "outputs": [
    {
     "data": {
      "application/vnd.jupyter.widget-view+json": {
       "model_id": "aee7c611935a42a687cebd4b1bd987e9",
       "version_major": 2,
       "version_minor": 0
      },
      "text/plain": [
       "MetricVisualizer(layout=Layout(align_self='stretch', height='500px'))"
      ]
     },
     "metadata": {},
     "output_type": "display_data"
    },
    {
     "name": "stdout",
     "output_type": "stream",
     "text": [
      "0:\tlearn: 0.8258362\ttest: 0.7826087\tbest: 0.7826087 (0)\ttotal: 8.48ms\tremaining: 8.47s\n",
      "200:\tlearn: 0.9930796\ttest: 0.8586957\tbest: 0.8913043 (18)\ttotal: 1.09s\tremaining: 4.32s\n",
      "400:\tlearn: 1.0000000\ttest: 0.8586957\tbest: 0.8913043 (18)\ttotal: 2.19s\tremaining: 3.27s\n",
      "600:\tlearn: 1.0000000\ttest: 0.8478261\tbest: 0.8913043 (18)\ttotal: 3.21s\tremaining: 2.13s\n",
      "800:\tlearn: 1.0000000\ttest: 0.8478261\tbest: 0.8913043 (18)\ttotal: 4.3s\tremaining: 1.07s\n",
      "999:\tlearn: 1.0000000\ttest: 0.8478261\tbest: 0.8913043 (18)\ttotal: 5.28s\tremaining: 0us\n",
      "\n",
      "bestTest = 0.8913043478\n",
      "bestIteration = 18\n",
      "\n",
      "Shrink model to first 19 iterations.\n"
     ]
    },
    {
     "data": {
      "text/plain": [
       "<catboost.core.CatBoostClassifier at 0x2561e1e91d0>"
      ]
     },
     "execution_count": 41,
     "metadata": {},
     "output_type": "execute_result"
    }
   ],
   "source": [
    "# Splitting the dataset into features and target\n",
    "X = merged_df.drop([\"date\", \"ICA_PM25_target\"], axis=1)\n",
    "y = merged_df[\"ICA_PM25_target\"]\n",
    "\n",
    "# Standardizing the features\n",
    "scaler = StandardScaler()\n",
    "X_scaled = scaler.fit_transform(X)\n",
    "\n",
    "# Splitting the data for training and testing\n",
    "X_train, X_test, y_train, y_test = train_test_split(\n",
    "    X_scaled, y, test_size=0.1, random_state=42, stratify=y\n",
    ")\n",
    "\n",
    "# Initialize CatBoostClassifier\n",
    "model = CatBoostClassifier(\n",
    "    iterations=1000, learning_rate=0.1, depth=6, eval_metric=\"Accuracy\", verbose=200\n",
    ")\n",
    "\n",
    "# Train the CatBoostClassifier\n",
    "model.fit(X_train, y_train, eval_set=(X_test, y_test), use_best_model=True, plot=True)"
   ]
  },
  {
   "cell_type": "code",
   "execution_count": 40,
   "metadata": {},
   "outputs": [
    {
     "name": "stdout",
     "output_type": "stream",
     "text": [
      "0.0,0.0,0.0,0.0,0.0,0.0,0.0,0.0,0.0,0.0,1.0,0.0,0.0,0.0,0.0,0.0,0.0,0.0,0.0,0.0,0.0,0.0,0.0,0.0,0.0,0.0,0.0,0.0,1.0,0.0,0.0\n"
     ]
    },
    {
     "name": "stderr",
     "output_type": "stream",
     "text": [
      "C:\\Users\\Daniel\\AppData\\Local\\Temp\\ipykernel_16260\\4011732501.py:13: SettingWithCopyWarning: \n",
      "A value is trying to be set on a copy of a slice from a DataFrame.\n",
      "Try using .loc[row_indexer,col_indexer] = value instead\n",
      "\n",
      "See the caveats in the documentation: https://pandas.pydata.org/pandas-docs/stable/user_guide/indexing.html#returning-a-view-versus-a-copy\n",
      "  x_final_prediction['final_predictions'] = final_predictions\n"
     ]
    }
   ],
   "source": [
    "# Prepare the dataset for December 2023 predictions\n",
    "x_final_prediction = merged_df[merged_df['date'] >= '2023-12-01']\n",
    "x_final_prediction_scaled = scaler.transform(x_final_prediction.drop(['date', 'ICA_PM25_target'], axis=1))\n",
    "\n",
    "# Making predictions for December 2023\n",
    "final_predictions = model.predict(x_final_prediction_scaled)\n",
    "\n",
    "# Optionally, convert final predictions to a comma-separated string\n",
    "predictions_string = ','.join(map(str, final_predictions))\n",
    "print(predictions_string)\n",
    "\n",
    "# Saving the predictions\n",
    "x_final_prediction['final_predictions'] = final_predictions\n",
    "x_final_prediction[['date', 'final_predictions']].to_csv('final_predictions_december_2023.csv', index=False)"
   ]
  }
 ],
 "metadata": {
  "kernelspec": {
   "display_name": "Python 3",
   "language": "python",
   "name": "python3"
  },
  "language_info": {
   "codemirror_mode": {
    "name": "ipython",
    "version": 3
   },
   "file_extension": ".py",
   "mimetype": "text/x-python",
   "name": "python",
   "nbconvert_exporter": "python",
   "pygments_lexer": "ipython3",
   "version": "3.11.3"
  }
 },
 "nbformat": 4,
 "nbformat_minor": 2
}
