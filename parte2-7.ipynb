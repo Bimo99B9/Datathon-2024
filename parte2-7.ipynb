{
 "cells": [
  {
   "cell_type": "code",
   "execution_count": 1,
   "metadata": {},
   "outputs": [],
   "source": [
    "import numpy as np\n",
    "import pandas as pd\n",
    "from sklearn.model_selection import train_test_split\n",
    "from sklearn.preprocessing import StandardScaler\n",
    "from catboost import CatBoostClassifier, Pool, cv\n",
    "import matplotlib.pyplot as plt\n",
    "\n",
    "# Load datasets\n",
    "air_quality_df = pd.read_csv(\"data/datathon24_parte1/air_quality_gijon.csv\")\n",
    "meteo_df = pd.read_csv(\"data/datathon24_parte1/meteo_gijon.csv\")\n",
    "mobility_df = pd.read_csv(\"data/datathon24_parte1/movility_gijon.csv\")\n",
    "prediction_df = pd.read_csv(\"data/datathon24_parte2/prediction.csv\")\n",
    "\n",
    "# Merge datasets with the selected columns from air_quality_df\n",
    "selected_columns = [\"date\", \"SO2_GijonGlobal\", \"NO_GijonGlobal\", \"NO2_GijonGlobal\", \"CO_GijonGlobal\", \"PM10_GijonGlobal\", \"O3_GijonGlobal\"]\n",
    "filtered_air_quality_df = air_quality_df[selected_columns]\n",
    "merged_df = filtered_air_quality_df.merge(meteo_df, on=\"date\", how='outer').merge(mobility_df, on=\"date\", how='outer').merge(prediction_df, on=\"date\", how='outer')\n",
    "\n",
    "# Convert 'date' to datetime, sort, and handle missing values\n",
    "merged_df['date'] = pd.to_datetime(merged_df['date'])\n",
    "merged_df.sort_values('date', inplace=True)\n",
    "merged_df.ffill(inplace=True)\n",
    "merged_df.bfill(inplace=True)\n",
    "\n",
    "# Normalize features and reintroduce cyclical features before normalization\n",
    "scaler = StandardScaler()\n",
    "exclude_cols = [\"date\", \"ICA_PM25_target\"]\n",
    "features_to_scale = [col for col in merged_df.columns if col not in exclude_cols]\n",
    "merged_df[features_to_scale] = scaler.fit_transform(merged_df[features_to_scale])\n",
    "\n",
    "# Preparing x_final_prediction for December 2023\n",
    "x_final_prediction_with_date = merged_df[\n",
    "    (merged_df[\"date\"] >= \"2023-12-01\") & (merged_df[\"date\"] <= \"2023-12-31\")\n",
    "]\n",
    "\n",
    "# Ensure features are prepared similarly to the training data\n",
    "x_final_prediction = x_final_prediction_with_date.drop(columns=['date', 'ICA_PM25_target'])\n",
    "\n",
    "# Apply the same scaler transformation to x_final_prediction\n",
    "x_final_prediction[features_to_scale] = scaler.transform(x_final_prediction[features_to_scale])"
   ]
  },
  {
   "cell_type": "code",
   "execution_count": 2,
   "metadata": {},
   "outputs": [
    {
     "name": "stderr",
     "output_type": "stream",
     "text": [
      "C:\\Users\\Daniel\\AppData\\Local\\Temp\\ipykernel_19548\\501399822.py:17: FutureWarning: DataFrame.fillna with 'method' is deprecated and will raise in a future version. Use obj.ffill() or obj.bfill() instead.\n",
      "  df.fillna(method='bfill', inplace=True)\n"
     ]
    },
    {
     "name": "stdout",
     "output_type": "stream",
     "text": [
      "Fitting 3 folds for each of 18 candidates, totalling 54 fits\n"
     ]
    }
   ],
   "source": [
    "import numpy as np\n",
    "import pandas as pd\n",
    "from sklearn.model_selection import train_test_split, GridSearchCV\n",
    "from sklearn.preprocessing import StandardScaler\n",
    "from catboost import CatBoostClassifier\n",
    "import matplotlib.pyplot as plt\n",
    "from sklearn.metrics import f1_score, classification_report, confusion_matrix, precision_recall_curve, auc, roc_auc_score, accuracy_score\n",
    "\n",
    "# Improved Feature Engineering\n",
    "def enhanced_feature_engineering(df):\n",
    "    # Adding more lag features for PM10 and statistical features\n",
    "    for pollutant in ['PM10_GijonGlobal', 'NO2_GijonGlobal', 'SO2_GijonGlobal']:\n",
    "        for lag in [1, 2, 3, 7]:\n",
    "            df[f'{pollutant}_lag{lag}'] = df[pollutant].shift(lag)\n",
    "        df[f'{pollutant}_rolling_mean_3'] = df[pollutant].rolling(window=3).mean()\n",
    "        df[f'{pollutant}_rolling_std_3'] = df[pollutant].rolling(window=3).std()\n",
    "    df.fillna(method='bfill', inplace=True)\n",
    "    return df\n",
    "\n",
    "merged_df = enhanced_feature_engineering(merged_df)\n",
    "\n",
    "X = merged_df.drop(['date', 'ICA_PM25_target'], axis=1)\n",
    "y = merged_df['ICA_PM25_target']\n",
    "\n",
    "# Split and scale the dataset\n",
    "X_train, X_test, y_train, y_test = train_test_split(X, y, test_size=0.2, random_state=42, stratify=y)\n",
    "scaler = StandardScaler()\n",
    "X_train_scaled = scaler.fit_transform(X_train)\n",
    "X_test_scaled = scaler.transform(X_test)\n",
    "\n",
    "# Initialize CatBoostClassifier\n",
    "model = CatBoostClassifier(loss_function='Logloss', eval_metric='AUC', verbose=200)\n",
    "\n",
    "# Define the parameter grid\n",
    "param_grid = {\n",
    "    'iterations': [500, 1000],\n",
    "    'learning_rate': [0.01, 0.05, 0.1],\n",
    "    'depth': [4, 6, 8],\n",
    "}\n",
    "\n",
    "# Set up GridSearchCV\n",
    "grid_search = GridSearchCV(estimator=model, param_grid=param_grid, cv=3, scoring='roc_auc', n_jobs=-1, verbose=3)\n",
    "grid_search.fit(X_train_scaled, y_train)\n",
    "\n",
    "# Print best parameters and scores\n",
    "print(f\"Best parameters: {grid_search.best_params_}\")\n",
    "print(f\"Best AUC: {grid_search.best_score_}\")\n",
    "\n",
    "# Use the best estimator for further predictions\n",
    "best_model = grid_search.best_estimator_\n",
    "\n",
    "# Evaluation on the test set\n",
    "y_pred = best_model.predict(X_test_scaled)\n",
    "y_pred_proba = best_model.predict_proba(X_test_scaled)[:, 1]\n",
    "print(\"Accuracy on test set:\", accuracy_score(y_test, y_pred))\n",
    "print(\"AUC on test set:\", roc_auc_score(y_test, y_pred_proba))\n",
    "\n",
    "# Feature importance visualization\n",
    "feature_importances = best_model.get_feature_importance()\n",
    "plt.figure(figsize=(10, 8))\n",
    "plt.barh(np.arange(len(feature_importances)), sorted(feature_importances))\n",
    "plt.yticks(np.arange(len(X.columns)), X.columns[np.argsort(feature_importances)])\n",
    "plt.xlabel('Feature Importance')\n",
    "plt.title('Feature Importance')\n",
    "plt.show()\n",
    "\n",
    "# Prepare for final predictions\n",
    "x_final_scaled = scaler.transform(merged_df[merged_df['date'] >= '2023-12-01'].drop(['date', 'ICA_PM25_target'], axis=1))\n",
    "final_predictions = best_model.predict(x_final_scaled)\n",
    "\n",
    "# Optionally, convert final predictions to a comma-separated string\n",
    "predictions_string = ','.join(map(str, final_predictions))\n",
    "print(predictions_string)"
   ]
  },
  {
   "cell_type": "code",
   "execution_count": null,
   "metadata": {},
   "outputs": [
    {
     "name": "stdout",
     "output_type": "stream",
     "text": [
      "0.0,0.0,0.0,0.0,1.0,0.0,0.0,0.0,0.0,0.0,1.0,0.0,0.0,0.0,0.0,0.0,1.0,1.0,0.0,0.0,0.0,0.0,0.0,1.0,1.0,1.0,1.0,0.0,0.0,0.0,0.0\n"
     ]
    }
   ],
   "source": [
    "# Preparing for predictions for December 2023\n",
    "x_final = merged_df[merged_df['date'] >= '2023-12-01'].drop(['date', 'ICA_PM25_target'], axis=1)\n",
    "x_final_scaled = scaler.transform(x_final)  # Apply the same scaling\n",
    "final_predictions = model.predict(x_final_scaled)\n",
    "\n",
    "# Saving and printing predictions\n",
    "predictions_string = ','.join(map(str, final_predictions))\n",
    "print(predictions_string)\n",
    "\n",
    "# Saving the predictions with date\n",
    "x_final_prediction_with_date = merged_df[merged_df['date'] >= '2023-12-01'][['date']].copy()\n",
    "x_final_prediction_with_date['final_predictions'] = final_predictions\n",
    "x_final_prediction_with_date.to_csv('final_predictions_december_2023.csv', index=False)"
   ]
  }
 ],
 "metadata": {
  "kernelspec": {
   "display_name": "Python 3",
   "language": "python",
   "name": "python3"
  },
  "language_info": {
   "codemirror_mode": {
    "name": "ipython",
    "version": 3
   },
   "file_extension": ".py",
   "mimetype": "text/x-python",
   "name": "python",
   "nbconvert_exporter": "python",
   "pygments_lexer": "ipython3",
   "version": "3.11.3"
  }
 },
 "nbformat": 4,
 "nbformat_minor": 2
}
